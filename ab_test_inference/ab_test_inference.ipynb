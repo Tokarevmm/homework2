{
 "cells": [
  {
   "cell_type": "markdown",
   "source": [
    "\n",
    "# Задание:\n",
    "----\n",
    "\n",
    "<br>\n",
    "\n",
    "Вам предоставлен анонимизированные результаты **реального A/B тестирования**, проходившего когда-то в нашем отделе (`ab_test_ensembles.csv`). В тесте было два варианта работы сервиса - `standard` и `svm_ensemble_v_1_22`, где работали несколько моделей классификации для целей сервиса.\n",
    "\n",
    "<br>\n",
    "\n",
    "\n",
    "------\n",
    "Вам, как специалистам по машинному обучению предстоит ответить на **2 главных вопроса:**\n",
    "\n",
    "1. Стоит ли нам оставить старый вариант работы сервиса или заменить его на вариант работы с моделями классификации (используем всю выборку 200к+ пользователей).\n",
    "2. Кроме того, посчитайте вывод для типа пользователей (`user_type`). Стоит ли для новых (старых) пользователей оставить старый (новый) вариант работы сервиса.\n",
    "\n",
    "\n",
    "<br>\n",
    "\n",
    "Для того, чтобы освежить в памяти процесс тестирования статистических гипотез, непомню, что тестирование состоит из следующих частей:\n",
    "1. Дизайн эксперимента.\n",
    "2. Подготовка и запуск эксперимента.\n",
    "3. Сбор данных и аналитика полученных данных.\n",
    "4. Визуализация результатов тестирования.\n",
    "5. Тестирование гипотез.\n",
    "6. Вывод и интерпритация результатов.\n",
    "\n",
    "-----\n",
    "\n",
    "#### Критерии оценки задания:\n",
    "\n",
    "1. **Первое, что будет проверяться - вывод полученных результатов**, в случае если выводы сделаны не правильно, задание считается проваленным и на этом этап проверки заканчивается (пропускаются этапы код-ревью, оформления и визуализации, качество кода).\n",
    "2. В случае если результаты и интерпритация результатов оказались верны, проводится код-ревью и проверка этапа визуализаций, поиск проблемных точек, точек роста.\n",
    "3. **Максимальный балл** который можно получить, выполнив текущее задание: **2 балла за 1 вопрос, 2 балла за 2 вопрос и 1 балл за эффективный и аккуратный код.\n",
    "\n",
    "\n",
    "Удачи, примените все свои навыки, которые вам доступны на данный момент и покажите на что вы способны!"
   ],
   "metadata": {
    "collapsed": false
   }
  },
  {
   "cell_type": "code",
   "execution_count": 1,
   "outputs": [],
   "source": [
    "import numpy as np\n",
    "import pandas as pd\n",
    "import matplotlib.pyplot as plt\n",
    "import seaborn as sns"
   ],
   "metadata": {
    "collapsed": false,
    "ExecuteTime": {
     "end_time": "2023-06-13T14:18:29.024100900Z",
     "start_time": "2023-06-13T14:18:29.021569Z"
    }
   }
  },
  {
   "cell_type": "code",
   "execution_count": 2,
   "outputs": [],
   "source": [
    "df = pd.read_csv('ab_test_ensembles.csv')"
   ],
   "metadata": {
    "collapsed": false,
    "ExecuteTime": {
     "end_time": "2023-06-13T14:18:30.283447Z",
     "start_time": "2023-06-13T14:18:29.026163700Z"
    }
   }
  },
  {
   "cell_type": "code",
   "execution_count": 3,
   "outputs": [
    {
     "data": {
      "text/plain": "Index(['user_id', 'timestamp', 'group', 'variants', 'converted', 'location',\n       'age_group', 'user_type'],\n      dtype='object')"
     },
     "execution_count": 3,
     "metadata": {},
     "output_type": "execute_result"
    }
   ],
   "source": [
    "df.columns"
   ],
   "metadata": {
    "collapsed": false,
    "ExecuteTime": {
     "end_time": "2023-06-13T14:18:30.306495300Z",
     "start_time": "2023-06-13T14:18:30.290462500Z"
    }
   }
  },
  {
   "cell_type": "code",
   "execution_count": 4,
   "outputs": [
    {
     "data": {
      "text/plain": "user_id      object\ntimestamp    object\ngroup        object\nvariants     object\nconverted     int64\nlocation     object\nage_group    object\nuser_type    object\ndtype: object"
     },
     "execution_count": 4,
     "metadata": {},
     "output_type": "execute_result"
    }
   ],
   "source": [
    "df.dtypes"
   ],
   "metadata": {
    "collapsed": false,
    "ExecuteTime": {
     "end_time": "2023-06-13T14:18:30.430806500Z",
     "start_time": "2023-06-13T14:18:30.306495300Z"
    }
   }
  },
  {
   "cell_type": "code",
   "execution_count": 5,
   "outputs": [
    {
     "data": {
      "text/plain": "                                user_id                   timestamp  \\\n0  9109b0dc-d393-497f-8d63-ba9a25dd16b4  2022-05-21 22:11:48.556739   \n1  2430c3d2-f75b-4b31-8271-51b6a76c2652  2022-05-12 08:01:45.159739   \n2  44788c4e-8dd2-4fad-b986-75e76f4adb64  2022-05-11 16:55:06.154213   \n3  4699a417-506d-41b8-a354-6af6ad576963  2022-05-08 18:28:03.143765   \n4  304b0d28-bcdf-401a-9dff-66230d3ba0bc  2022-05-21 01:52:26.210827   \n\n       group             variants  converted        location age_group  \\\n0    control             standard          0  United Kingdom     18-25   \n1    control             standard          0  United Kingdom     42-49   \n2  treatment  svm_ensemble_v_1_22          0  United Kingdom     26-33   \n3  treatment  svm_ensemble_v_1_22          0  United Kingdom     42-49   \n4    control             standard          1  United Kingdom     42-49   \n\n         user_type  \n0  registered_user  \n1  registered_user  \n2         new_user  \n3  registered_user  \n4  registered_user  ",
      "text/html": "<div>\n<style scoped>\n    .dataframe tbody tr th:only-of-type {\n        vertical-align: middle;\n    }\n\n    .dataframe tbody tr th {\n        vertical-align: top;\n    }\n\n    .dataframe thead th {\n        text-align: right;\n    }\n</style>\n<table border=\"1\" class=\"dataframe\">\n  <thead>\n    <tr style=\"text-align: right;\">\n      <th></th>\n      <th>user_id</th>\n      <th>timestamp</th>\n      <th>group</th>\n      <th>variants</th>\n      <th>converted</th>\n      <th>location</th>\n      <th>age_group</th>\n      <th>user_type</th>\n    </tr>\n  </thead>\n  <tbody>\n    <tr>\n      <th>0</th>\n      <td>9109b0dc-d393-497f-8d63-ba9a25dd16b4</td>\n      <td>2022-05-21 22:11:48.556739</td>\n      <td>control</td>\n      <td>standard</td>\n      <td>0</td>\n      <td>United Kingdom</td>\n      <td>18-25</td>\n      <td>registered_user</td>\n    </tr>\n    <tr>\n      <th>1</th>\n      <td>2430c3d2-f75b-4b31-8271-51b6a76c2652</td>\n      <td>2022-05-12 08:01:45.159739</td>\n      <td>control</td>\n      <td>standard</td>\n      <td>0</td>\n      <td>United Kingdom</td>\n      <td>42-49</td>\n      <td>registered_user</td>\n    </tr>\n    <tr>\n      <th>2</th>\n      <td>44788c4e-8dd2-4fad-b986-75e76f4adb64</td>\n      <td>2022-05-11 16:55:06.154213</td>\n      <td>treatment</td>\n      <td>svm_ensemble_v_1_22</td>\n      <td>0</td>\n      <td>United Kingdom</td>\n      <td>26-33</td>\n      <td>new_user</td>\n    </tr>\n    <tr>\n      <th>3</th>\n      <td>4699a417-506d-41b8-a354-6af6ad576963</td>\n      <td>2022-05-08 18:28:03.143765</td>\n      <td>treatment</td>\n      <td>svm_ensemble_v_1_22</td>\n      <td>0</td>\n      <td>United Kingdom</td>\n      <td>42-49</td>\n      <td>registered_user</td>\n    </tr>\n    <tr>\n      <th>4</th>\n      <td>304b0d28-bcdf-401a-9dff-66230d3ba0bc</td>\n      <td>2022-05-21 01:52:26.210827</td>\n      <td>control</td>\n      <td>standard</td>\n      <td>1</td>\n      <td>United Kingdom</td>\n      <td>42-49</td>\n      <td>registered_user</td>\n    </tr>\n  </tbody>\n</table>\n</div>"
     },
     "execution_count": 5,
     "metadata": {},
     "output_type": "execute_result"
    }
   ],
   "source": [
    "df.head()"
   ],
   "metadata": {
    "collapsed": false,
    "ExecuteTime": {
     "end_time": "2023-06-13T14:18:30.430806500Z",
     "start_time": "2023-06-13T14:18:30.332927600Z"
    }
   }
  },
  {
   "cell_type": "code",
   "execution_count": 6,
   "outputs": [
    {
     "name": "stdout",
     "output_type": "stream",
     "text": [
      "<class 'pandas.core.frame.DataFrame'>\n",
      "RangeIndex: 294478 entries, 0 to 294477\n",
      "Data columns (total 8 columns):\n",
      " #   Column     Non-Null Count   Dtype \n",
      "---  ------     --------------   ----- \n",
      " 0   user_id    294478 non-null  object\n",
      " 1   timestamp  294478 non-null  object\n",
      " 2   group      294478 non-null  object\n",
      " 3   variants   294478 non-null  object\n",
      " 4   converted  294478 non-null  int64 \n",
      " 5   location   294478 non-null  object\n",
      " 6   age_group  294478 non-null  object\n",
      " 7   user_type  294478 non-null  object\n",
      "dtypes: int64(1), object(7)\n",
      "memory usage: 18.0+ MB\n"
     ]
    }
   ],
   "source": [
    "df.info()"
   ],
   "metadata": {
    "collapsed": false,
    "ExecuteTime": {
     "end_time": "2023-06-13T14:18:30.666723800Z",
     "start_time": "2023-06-13T14:18:30.374933500Z"
    }
   }
  },
  {
   "cell_type": "code",
   "execution_count": 7,
   "outputs": [
    {
     "data": {
      "text/plain": "user_id      0\ntimestamp    0\ngroup        0\nvariants     0\nconverted    0\nlocation     0\nage_group    0\nuser_type    0\ndtype: int64"
     },
     "execution_count": 7,
     "metadata": {},
     "output_type": "execute_result"
    }
   ],
   "source": [
    "df.isnull().sum()"
   ],
   "metadata": {
    "collapsed": false,
    "ExecuteTime": {
     "end_time": "2023-06-13T14:18:30.784837600Z",
     "start_time": "2023-06-13T14:18:30.520349400Z"
    }
   }
  },
  {
   "cell_type": "code",
   "execution_count": 8,
   "outputs": [
    {
     "data": {
      "text/plain": "variants\nstandard               147239\nsvm_ensemble_v_1_22    147239\nName: count, dtype: int64"
     },
     "execution_count": 8,
     "metadata": {},
     "output_type": "execute_result"
    }
   ],
   "source": [
    "df.variants.value_counts()"
   ],
   "metadata": {
    "collapsed": false,
    "ExecuteTime": {
     "end_time": "2023-06-13T14:18:30.784837600Z",
     "start_time": "2023-06-13T14:18:30.672325600Z"
    }
   }
  },
  {
   "cell_type": "code",
   "execution_count": 9,
   "outputs": [
    {
     "data": {
      "text/plain": "user_id      294478\ntimestamp    294478\ngroup             2\nvariants          2\nconverted         2\nlocation          1\nage_group         6\nuser_type         2\ndtype: int64"
     },
     "execution_count": 9,
     "metadata": {},
     "output_type": "execute_result"
    }
   ],
   "source": [
    "df.nunique()"
   ],
   "metadata": {
    "collapsed": false,
    "ExecuteTime": {
     "end_time": "2023-06-13T14:18:31.143073900Z",
     "start_time": "2023-06-13T14:18:30.703128Z"
    }
   }
  },
  {
   "cell_type": "code",
   "execution_count": 10,
   "outputs": [
    {
     "data": {
      "text/plain": "converted\n0    259241\n1     35237\nName: count, dtype: int64"
     },
     "execution_count": 10,
     "metadata": {},
     "output_type": "execute_result"
    }
   ],
   "source": [
    "df.converted.value_counts()"
   ],
   "metadata": {
    "collapsed": false,
    "ExecuteTime": {
     "end_time": "2023-06-13T14:18:31.163607800Z",
     "start_time": "2023-06-13T14:18:31.143073900Z"
    }
   }
  },
  {
   "cell_type": "code",
   "execution_count": 11,
   "outputs": [],
   "source": [
    "convert_rates = [\n",
    "    len(df[(df['converted'] == 1) & (df['variants'] == 'standard')]) / len(df[df['variants'] == 'standard']),\n",
    "    len(df[(df['converted'] == 1) & (df['variants'] == 'svm_ensemble_v_1_22')]) / len(df[df['variants'] == 'svm_ensemble_v_1_22'])\n",
    "]\n"
   ],
   "metadata": {
    "collapsed": false,
    "ExecuteTime": {
     "end_time": "2023-06-13T14:18:31.348060700Z",
     "start_time": "2023-06-13T14:18:31.167139600Z"
    }
   }
  },
  {
   "cell_type": "code",
   "execution_count": 12,
   "outputs": [
    {
     "data": {
      "text/plain": "[0.12047759085568362, 0.11884079625642663]"
     },
     "execution_count": 12,
     "metadata": {},
     "output_type": "execute_result"
    }
   ],
   "source": [
    "convert_rates"
   ],
   "metadata": {
    "collapsed": false,
    "ExecuteTime": {
     "end_time": "2023-06-13T14:18:31.358896900Z",
     "start_time": "2023-06-13T14:18:31.348060700Z"
    }
   }
  },
  {
   "cell_type": "code",
   "execution_count": 13,
   "outputs": [],
   "source": [
    "df['variants'] = np.where(df['variants']== 'standard', 'A','B')"
   ],
   "metadata": {
    "collapsed": false,
    "ExecuteTime": {
     "end_time": "2023-06-13T14:18:31.422183600Z",
     "start_time": "2023-06-13T14:18:31.358896900Z"
    }
   }
  },
  {
   "cell_type": "code",
   "execution_count": 14,
   "outputs": [
    {
     "data": {
      "text/plain": "<Figure size 640x480 with 1 Axes>",
      "image/png": "[encoded data removed]"
     },
     "metadata": {},
     "output_type": "display_data"
    }
   ],
   "source": [
    "n = 2000\n",
    "\n",
    "bootstrap_sum = pd.DataFrame([df.sample(frac=1, replace=True).groupby('variants')['converted'].mean() for i in range(n)])\n",
    "\n",
    "bootstrap_sum.plot.kde()\n",
    "sns.set(rc={'figure.figsize':(18,5)})\n",
    "plt.title(\"KDE Plot of the convertion rates' bootstrap distributions\", fontweight=\"bold\")\n",
    "plt.xlabel(\"Convertion rate\")\n",
    "plt.show()"
   ],
   "metadata": {
    "collapsed": false,
    "ExecuteTime": {
     "end_time": "2023-06-13T14:23:42.497889900Z",
     "start_time": "2023-06-13T14:18:31.399376900Z"
    }
   }
  },
  {
   "cell_type": "code",
   "execution_count": 15,
   "outputs": [
    {
     "data": {
      "text/plain": "group\ntreatment    147276\ncontrol      147202\nName: count, dtype: int64"
     },
     "execution_count": 15,
     "metadata": {},
     "output_type": "execute_result"
    }
   ],
   "source": [
    "df['group'].value_counts()"
   ],
   "metadata": {
    "collapsed": false,
    "ExecuteTime": {
     "end_time": "2023-06-13T14:23:42.686649Z",
     "start_time": "2023-06-13T14:23:42.497889900Z"
    }
   }
  },
  {
   "cell_type": "code",
   "execution_count": 16,
   "outputs": [
    {
     "data": {
      "text/plain": "0.09"
     },
     "execution_count": 16,
     "metadata": {},
     "output_type": "execute_result"
    }
   ],
   "source": [
    "bootstrap_sum['diff_mean'] = bootstrap_sum['B'] - bootstrap_sum['A']\n",
    "mean_pos_count = len(bootstrap_sum[bootstrap_sum['diff_mean'] > 0])\n",
    "p_mean_diff = mean_pos_count/n\n",
    "p_mean_diff"
   ],
   "metadata": {
    "collapsed": false,
    "ExecuteTime": {
     "end_time": "2023-06-13T14:23:42.717906700Z",
     "start_time": "2023-06-13T14:23:42.532104100Z"
    }
   }
  },
  {
   "cell_type": "code",
   "execution_count": 17,
   "outputs": [
    {
     "name": "stdout",
     "output_type": "stream",
     "text": [
      "Mean of (verison B - verison A):\t\t\t -0.0016199477411772967\n",
      "Standard Error of (verison B -  verison A):\t 2.6914066044223062e-05\n",
      "CI of (verison B - verison A):\t\t\t\t [-0.0016726983413015062, -0.0015671971410530872]\n"
     ]
    }
   ],
   "source": [
    "from scipy.stats import norm\n",
    "alpha = 0.05\n",
    "z_mean = np.mean(bootstrap_sum['B'])- np.mean(bootstrap_sum['A'])\n",
    "z_sigma = np.sqrt((np.var(bootstrap_sum['B'])/n + np.var(bootstrap_sum['A'])/n))\n",
    "print(\"Mean of (verison B - verison A):\\t\\t\\t\", z_mean)\n",
    "print(\"Standard Error of (verison B -  verison A):\\t\", z_sigma)\n",
    "print(\"CI of (verison B - verison A):\\t\\t\\t\\t\", [z_mean - norm.ppf(1-alpha/2)*z_sigma, z_mean + norm.ppf(1-alpha/2)*z_sigma] )"
   ],
   "metadata": {
    "collapsed": false,
    "ExecuteTime": {
     "end_time": "2023-06-13T14:23:42.717906700Z",
     "start_time": "2023-06-13T14:23:42.563846500Z"
    }
   }
  },
  {
   "cell_type": "code",
   "execution_count": 18,
   "outputs": [
    {
     "data": {
      "text/plain": "array([-0.0040557 ,  0.00080209])"
     },
     "execution_count": 18,
     "metadata": {},
     "output_type": "execute_result"
    }
   ],
   "source": [
    "CI = np.percentile(bootstrap_sum['diff_mean'], [2.5, 97.5])\n",
    "CI"
   ],
   "metadata": {
    "collapsed": false,
    "ExecuteTime": {
     "end_time": "2023-06-13T14:23:42.717906700Z",
     "start_time": "2023-06-13T14:23:42.563846500Z"
    }
   }
  },
  {
   "cell_type": "code",
   "execution_count": 19,
   "outputs": [
    {
     "data": {
      "text/plain": "<Figure size 1800x500 with 1 Axes>",
      "image/png": "[encoded data removed]"
     },
     "metadata": {},
     "output_type": "display_data"
    }
   ],
   "source": [
    "counts,bins,ignored = plt.hist(bootstrap_sum['diff_mean'],50,density = True,color = 'purple')\n",
    "plt.xlabel(\"mean difference\")\n",
    "plt.title(\"Distribution of Bootstrapped samples mean difference\")\n",
    "plt.show()"
   ],
   "metadata": {
    "collapsed": false,
    "ExecuteTime": {
     "end_time": "2023-06-13T14:23:43.140658800Z",
     "start_time": "2023-06-13T14:23:42.577899200Z"
    }
   }
  },
  {
   "cell_type": "code",
   "execution_count": 20,
   "outputs": [
    {
     "name": "stdout",
     "output_type": "stream",
     "text": [
      "p=0.1712 , alpha=0.05 \n",
      "\n",
      "Fail to reject H0; Two version have no significant difference\n"
     ]
    }
   ],
   "source": [
    "from scipy.stats import mannwhitneyu\n",
    "\n",
    "converted_A = df[df.variants=='A'].converted\n",
    "converted_B = df[df.variants=='B'].converted\n",
    "\n",
    "def mannwhitneyfunc(value1,value2):\n",
    "    stat, p=mannwhitneyu(value1,value2)\n",
    "    alpha=0.05\n",
    "\n",
    "    print('p=%.4f , alpha=%.2f \\n'%(p,alpha))\n",
    "    if p > alpha:\n",
    "        print('Fail to reject H0; Two version have no significant difference')\n",
    "    else:\n",
    "        print('Have enough envidence to reject H0; Two version have a significant difference')\n",
    "\n",
    "mannwhitneyfunc(converted_A,converted_B)"
   ],
   "metadata": {
    "collapsed": false,
    "ExecuteTime": {
     "end_time": "2023-06-13T14:23:43.959119700Z",
     "start_time": "2023-06-13T14:23:43.140658800Z"
    }
   }
  },
  {
   "cell_type": "code",
   "execution_count": 21,
   "outputs": [
    {
     "name": "stdout",
     "output_type": "stream",
     "text": [
      "p=0.1730 , alpha=0.05 \n",
      "\n",
      "Fail to reject H0; Two version have no significant difference\n"
     ]
    }
   ],
   "source": [
    "from scipy.stats import fisher_exact\n",
    "\n",
    "converted_A = len(df[(df['variants'] == 'A') & (df['converted'] == 1)])\n",
    "converted_B = len(df[(df['variants'] == 'B') & (df['converted'] == 1)])\n",
    "nonconverted_A = len(df[(df['variants'] == 'A') & (df['converted'] == 0)])\n",
    "nonconverted_B = len(df[(df['variants'] == 'B') & (df['converted'] == 0)])\n",
    "\n",
    "\n",
    "def fisher_exactfunc(value1,value2,value3,value4):\n",
    "    stat, p=fisher_exact([[value1,value2],[value3,value4]])\n",
    "    alpha=0.05\n",
    "\n",
    "    print('p=%.4f , alpha=%.2f \\n'%(p,alpha))\n",
    "    if p > alpha:\n",
    "        print('Fail to reject H0; Two version have no significant difference')\n",
    "    else:\n",
    "        print('Have enough envidence to reject H0; Two version have a significant difference')\n",
    "\n",
    "fisher_exactfunc(converted_A,converted_B,nonconverted_A, nonconverted_B)"
   ],
   "metadata": {
    "collapsed": false,
    "ExecuteTime": {
     "end_time": "2023-06-13T14:23:44.719841Z",
     "start_time": "2023-06-13T14:23:43.961668Z"
    }
   }
  },
  {
   "cell_type": "code",
   "execution_count": 22,
   "outputs": [
    {
     "name": "stdout",
     "output_type": "stream",
     "text": [
      "p=0.1730 , alpha=0.05 \n",
      "Two verisions have no significant difference\n"
     ]
    }
   ],
   "source": [
    "from scipy.stats import chi2_contingency\n",
    "\n",
    "def chi2_con_test(data):\n",
    "    chi2, p, dof, ex = chi2_contingency(data)\n",
    "    alpha = 0.05\n",
    "\n",
    "    print('p=%.4f , alpha=%.2f '%(p,alpha))\n",
    "    if p > alpha:\n",
    "        print('Two verisions have no significant difference')\n",
    "    else:\n",
    "        print('Two verisions have a significant difference')\n",
    "\n",
    "converted_cross_table = pd.crosstab(df[\"variants\"], df[\"converted\"])\n",
    "chi2_con_test(converted_cross_table)"
   ],
   "metadata": {
    "collapsed": false,
    "ExecuteTime": {
     "end_time": "2023-06-13T14:23:44.721699500Z",
     "start_time": "2023-06-13T14:23:44.622887100Z"
    }
   }
  },
  {
   "cell_type": "code",
   "execution_count": 23,
   "outputs": [
    {
     "name": "stdout",
     "output_type": "stream",
     "text": [
      "p=0.7351 , alpha=0.05 \n",
      "\n",
      "Fail to reject H0; Two version have no significant difference\n"
     ]
    }
   ],
   "source": [
    "converted_A_registered = df[(df['variants'] == 'A') & (df['user_type'] == 'registered_user')]['converted']\n",
    "converted_B_registered = df[(df['variants'] == 'B') & (df['user_type'] == 'registered_user')]['converted']\n",
    "mannwhitneyfunc(converted_A_registered, converted_B_registered)"
   ],
   "metadata": {
    "collapsed": false,
    "ExecuteTime": {
     "end_time": "2023-06-13T14:23:45.192364600Z",
     "start_time": "2023-06-13T14:23:44.625098300Z"
    }
   }
  },
  {
   "cell_type": "code",
   "execution_count": 24,
   "outputs": [
    {
     "name": "stdout",
     "output_type": "stream",
     "text": [
      "p=0.0225 , alpha=0.05 \n",
      "\n",
      "Have enough envidence to reject H0; Two version have a significant difference\n"
     ]
    }
   ],
   "source": [
    "converted_A_new = df[(df['variants'] == 'A') & (df['user_type'] == 'new_user')]['converted']\n",
    "converted_B_new = df[(df['variants'] == 'B') & (df['user_type'] == 'new_user')]['converted']\n",
    "mannwhitneyfunc(converted_A_new, converted_B_new)"
   ],
   "metadata": {
    "collapsed": false,
    "ExecuteTime": {
     "end_time": "2023-06-13T14:23:45.646156700Z",
     "start_time": "2023-06-13T14:23:45.207143300Z"
    }
   }
  },
  {
   "cell_type": "code",
   "execution_count": 30,
   "outputs": [
    {
     "name": "stdout",
     "output_type": "stream",
     "text": [
      "0.12107538246812201 0.11722334935526477\n"
     ]
    }
   ],
   "source": [
    "print(converted_A_new.mean(), converted_B_new.mean())"
   ],
   "metadata": {
    "collapsed": false,
    "ExecuteTime": {
     "end_time": "2023-06-13T18:00:07.690876800Z",
     "start_time": "2023-06-13T18:00:07.658583900Z"
    }
   }
  },
  {
   "cell_type": "markdown",
   "source": [
    "**Вывод:**\n",
    "\n",
    "- Для всей выборки нет статистически значимых изменений в показателе конверсии при использовании разных версий сервиса.\n",
    "- Нет статистически значимых изменений в показателе конверсии для старых пользователей при использовании разных версий сервиса.\n",
    "- Есть статистически значимые изменения в показателе конверсии для новых пользователей. Для новых пользователей следует оставить старый вариант работы сервиса."
   ],
   "metadata": {
    "collapsed": false
   }
  },
  {
   "cell_type": "code",
   "execution_count": null,
   "outputs": [],
   "source": [],
   "metadata": {
    "collapsed": false
   }
  }
 ],
 "metadata": {
  "kernelspec": {
   "display_name": "Python 3",
   "language": "python",
   "name": "python3"
  },
  "language_info": {
   "codemirror_mode": {
    "name": "ipython",
    "version": 2
   },
   "file_extension": ".py",
   "mimetype": "text/x-python",
   "name": "python",
   "nbconvert_exporter": "python",
   "pygments_lexer": "ipython2",
   "version": "2.7.6"
  }
 },
 "nbformat": 4,
 "nbformat_minor": 0
}
